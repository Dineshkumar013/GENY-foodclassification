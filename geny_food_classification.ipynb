{
  "nbformat": 4,
  "nbformat_minor": 0,
  "metadata": {
    "kernelspec": {
      "language": "python",
      "display_name": "Python 3",
      "name": "python3"
    },
    "language_info": {
      "name": "python",
      "version": "3.7.10",
      "mimetype": "text/x-python",
      "codemirror_mode": {
        "name": "ipython",
        "version": 3
      },
      "pygments_lexer": "ipython3",
      "nbconvert_exporter": "python",
      "file_extension": ".py"
    },
    "colab": {
      "name": "geny-food-classification.ipynb",
      "provenance": [],
      "include_colab_link": true
    }
  },
  "cells": [
    {
      "cell_type": "markdown",
      "metadata": {
        "id": "view-in-github",
        "colab_type": "text"
      },
      "source": [
        "<a href=\"https://colab.research.google.com/github/Dineshkumar013/GENY-foodclassification/blob/main/geny_food_classification.ipynb\" target=\"_parent\"><img src=\"https://colab.research.google.com/assets/colab-badge.svg\" alt=\"Open In Colab\"/></a>"
      ]
    },
    {
      "cell_type": "code",
      "metadata": {
        "_cell_guid": "b1076dfc-b9ad-4769-8c92-a6c4dae69d19",
        "_uuid": "8f2839f25d086af736a60e9eeb907d3b93b6e0e5",
        "execution": {
          "iopub.status.busy": "2021-08-09T14:35:17.147995Z",
          "iopub.execute_input": "2021-08-09T14:35:17.148428Z",
          "iopub.status.idle": "2021-08-09T14:35:17.493225Z",
          "shell.execute_reply.started": "2021-08-09T14:35:17.148335Z",
          "shell.execute_reply": "2021-08-09T14:35:17.491799Z"
        },
        "trusted": true,
        "id": "X5BBIM3RbIrV",
        "outputId": "24267828-e808-447c-97e5-67424155f60f"
      },
      "source": [
        "# This Python 3 environment comes with many helpful analytics libraries installed\n",
        "# It is defined by the kaggle/python Docker image: https://github.com/kaggle/docker-python\n",
        "# For example, here's several helpful packages to load\n",
        "\n",
        "import numpy as np # linear algebra\n",
        "import pandas as pd # data processing, CSV file I/O (e.g. pd.read_csv)\n",
        "\n",
        "# Input data files are available in the read-only \"../input/\" directory\n",
        "# For example, running this (by clicking run or pressing Shift+Enter) will list all files under the input directory\n",
        "\n",
        "import os\n",
        "for dirname, _, filenames in os.walk('/kaggle/input'):\n",
        "    for filename in filenames:\n",
        "        print(os.path.join(dirname, filename))\n",
        "\n",
        "# You can write up to 5GB to the current directory (/kaggle/working/) that gets preserved as output when you create a version using \"Save & Run All\" \n",
        "# You can also write temporary files to /kaggle/temp/, but they won't be saved outside of the current session"
      ],
      "execution_count": null,
      "outputs": [
        {
          "output_type": "stream",
          "text": [
            "/kaggle/input/foodmclass/Food/Orange/2 (26).jpg\n",
            "/kaggle/input/foodmclass/Food/Orange/3 (78).jpg\n",
            "/kaggle/input/foodmclass/Food/Orange/1 (18).jpg\n",
            "/kaggle/input/foodmclass/Food/Orange/1 (4).jpg\n",
            "/kaggle/input/foodmclass/Food/Orange/3 (86).jpg\n",
            "/kaggle/input/foodmclass/Food/Orange/2 (43).jpg\n",
            "/kaggle/input/foodmclass/Food/Orange/3 (36).jpg\n",
            "/kaggle/input/foodmclass/Food/Orange/1 (41).jpg\n",
            "/kaggle/input/foodmclass/Food/Orange/1 (44).jpg\n",
            "/kaggle/input/foodmclass/Food/Orange/1 (49).jpg\n",
            "/kaggle/input/foodmclass/Food/Orange/3 (25).jpg\n",
            "/kaggle/input/foodmclass/Food/Orange/1 (38).jpg\n",
            "/kaggle/input/foodmclass/Food/Orange/3 (6).jpg\n",
            "/kaggle/input/foodmclass/Food/Orange/3 (91).jpg\n",
            "/kaggle/input/foodmclass/Food/Orange/1 (19).jpg\n",
            "/kaggle/input/foodmclass/Food/Orange/3 (54).jpg\n",
            "/kaggle/input/foodmclass/Food/Orange/3 (68).jpg\n",
            "/kaggle/input/foodmclass/Food/Orange/1 (25).jpg\n",
            "/kaggle/input/foodmclass/Food/Orange/2 (30).jpg\n",
            "/kaggle/input/foodmclass/Food/Orange/3 (85).jpg\n",
            "/kaggle/input/foodmclass/Food/Orange/1 (51).jpg\n",
            "/kaggle/input/foodmclass/Food/Orange/1 (28).jpg\n",
            "/kaggle/input/foodmclass/Food/Orange/3 (21).jpg\n",
            "/kaggle/input/foodmclass/Food/Orange/1 (34).jpg\n",
            "/kaggle/input/foodmclass/Food/Orange/3 (52).jpg\n",
            "/kaggle/input/foodmclass/Food/Orange/1 (47).jpg\n",
            "/kaggle/input/foodmclass/Food/Orange/2 (42).jpg\n",
            "/kaggle/input/foodmclass/Food/Orange/2 (13).jpg\n",
            "/kaggle/input/foodmclass/Food/Orange/3 (20).jpg\n",
            "/kaggle/input/foodmclass/Food/Orange/1 (6).jpg\n",
            "/kaggle/input/foodmclass/Food/Orange/3 (66).jpg\n",
            "/kaggle/input/foodmclass/Food/Orange/2 (14).jpg\n",
            "/kaggle/input/foodmclass/Food/Orange/1 (13).jpg\n",
            "/kaggle/input/foodmclass/Food/Orange/2 (31).jpg\n",
            "/kaggle/input/foodmclass/Food/Orange/1 (24).jpg\n",
            "/kaggle/input/foodmclass/Food/Orange/3 (70).jpg\n",
            "/kaggle/input/foodmclass/Food/Orange/1 (1).jpg\n",
            "/kaggle/input/foodmclass/Food/Orange/3 (60).jpg\n",
            "/kaggle/input/foodmclass/Food/Orange/3 (56).jpg\n",
            "/kaggle/input/foodmclass/Food/Orange/3 (19).jpg\n",
            "/kaggle/input/foodmclass/Food/Orange/2 (20).jpg\n",
            "/kaggle/input/foodmclass/Food/Orange/3 (34).jpg\n",
            "/kaggle/input/foodmclass/Food/Orange/3 (74).jpg\n",
            "/kaggle/input/foodmclass/Food/Orange/3 (50).jpg\n",
            "/kaggle/input/foodmclass/Food/Orange/3 (13).jpg\n",
            "/kaggle/input/foodmclass/Food/Orange/3 (14).jpg\n",
            "/kaggle/input/foodmclass/Food/Orange/3 (53).jpg\n",
            "/kaggle/input/foodmclass/Food/Orange/3 (12).jpg\n",
            "/kaggle/input/foodmclass/Food/Orange/3 (59).jpg\n",
            "/kaggle/input/foodmclass/Food/Orange/3 (67).jpg\n",
            "/kaggle/input/foodmclass/Food/Orange/3 (16).jpg\n",
            "/kaggle/input/foodmclass/Food/Orange/3 (37).jpg\n",
            "/kaggle/input/foodmclass/Food/Orange/1 (42).jpg\n",
            "/kaggle/input/foodmclass/Food/Orange/2 (25).jpg\n",
            "/kaggle/input/foodmclass/Food/Orange/2 (21).jpg\n",
            "/kaggle/input/foodmclass/Food/Orange/3 (35).jpg\n",
            "/kaggle/input/foodmclass/Food/Orange/3 (79).jpg\n",
            "/kaggle/input/foodmclass/Food/Orange/1 (10).jpg\n",
            "/kaggle/input/foodmclass/Food/Orange/2 (17).jpg\n",
            "/kaggle/input/foodmclass/Food/Orange/1 (22).jpg\n",
            "/kaggle/input/foodmclass/Food/Orange/3 (11).jpg\n",
            "/kaggle/input/foodmclass/Food/Orange/3 (89).jpg\n",
            "/kaggle/input/foodmclass/Food/Orange/3 (26).jpg\n",
            "/kaggle/input/foodmclass/Food/Orange/3 (55).jpg\n",
            "/kaggle/input/foodmclass/Food/Orange/3 (80).jpg\n",
            "/kaggle/input/foodmclass/Food/Orange/3 (38).jpg\n",
            "/kaggle/input/foodmclass/Food/Orange/3 (62).jpg\n",
            "/kaggle/input/foodmclass/Food/Orange/1 (9).jpg\n",
            "/kaggle/input/foodmclass/Food/Orange/3 (9).jpg\n",
            "/kaggle/input/foodmclass/Food/Orange/2 (19).jpg\n",
            "/kaggle/input/foodmclass/Food/Orange/3 (48).jpg\n",
            "/kaggle/input/foodmclass/Food/Orange/3 (15).jpg\n",
            "/kaggle/input/foodmclass/Food/Orange/3 (47).jpg\n",
            "/kaggle/input/foodmclass/Food/Orange/1 (36).jpg\n",
            "/kaggle/input/foodmclass/Food/Orange/1 (35).jpg\n",
            "/kaggle/input/foodmclass/Food/Orange/3 (84).jpg\n",
            "/kaggle/input/foodmclass/Food/Orange/2 (4).jpg\n",
            "/kaggle/input/foodmclass/Food/Orange/3 (42).jpg\n",
            "/kaggle/input/foodmclass/Food/Orange/1 (8).jpg\n",
            "/kaggle/input/foodmclass/Food/Orange/1 (20).jpg\n",
            "/kaggle/input/foodmclass/Food/Orange/2 (29).jpg\n",
            "/kaggle/input/foodmclass/Food/Orange/3 (58).jpg\n",
            "/kaggle/input/foodmclass/Food/Orange/3 (17).jpg\n",
            "/kaggle/input/foodmclass/Food/Orange/3 (27).jpg\n",
            "/kaggle/input/foodmclass/Food/Orange/1 (17).jpg\n",
            "/kaggle/input/foodmclass/Food/Orange/1 (11).jpg\n",
            "/kaggle/input/foodmclass/Food/Orange/2 (22).jpg\n",
            "/kaggle/input/foodmclass/Food/Orange/3 (75).jpg\n",
            "/kaggle/input/foodmclass/Food/Orange/1 (43).jpg\n",
            "/kaggle/input/foodmclass/Food/Orange/2 (2).jpg\n",
            "/kaggle/input/foodmclass/Food/Orange/3 (39).jpg\n",
            "/kaggle/input/foodmclass/Food/Orange/3 (1).jpg\n",
            "/kaggle/input/foodmclass/Food/Orange/2 (24).jpg\n",
            "/kaggle/input/foodmclass/Food/Orange/2 (9).jpg\n",
            "/kaggle/input/foodmclass/Food/Orange/3 (3).jpg\n",
            "/kaggle/input/foodmclass/Food/Orange/1 (23).jpg\n",
            "/kaggle/input/foodmclass/Food/Orange/3 (32).jpg\n",
            "/kaggle/input/foodmclass/Food/Orange/2 (12).jpg\n",
            "/kaggle/input/foodmclass/Food/Orange/2 (5).jpg\n",
            "/kaggle/input/foodmclass/Food/Orange/2 (8).jpg\n",
            "/kaggle/input/foodmclass/Food/Orange/1 (31).jpg\n",
            "/kaggle/input/foodmclass/Food/Orange/3 (69).jpg\n",
            "/kaggle/input/foodmclass/Food/Orange/3 (10).jpg\n",
            "/kaggle/input/foodmclass/Food/Orange/1 (30).jpg\n",
            "/kaggle/input/foodmclass/Food/Orange/3 (72).jpg\n",
            "/kaggle/input/foodmclass/Food/Orange/1 (3).jpg\n",
            "/kaggle/input/foodmclass/Food/Orange/1 (14).jpg\n",
            "/kaggle/input/foodmclass/Food/Orange/2 (40).jpg\n",
            "/kaggle/input/foodmclass/Food/Orange/2 (11).jpg\n",
            "/kaggle/input/foodmclass/Food/Orange/2 (28).jpg\n",
            "/kaggle/input/foodmclass/Food/Orange/1 (2).jpg\n",
            "/kaggle/input/foodmclass/Food/Orange/2 (15).jpg\n",
            "/kaggle/input/foodmclass/Food/Orange/3 (82).jpg\n",
            "/kaggle/input/foodmclass/Food/Orange/2 (36).jpg\n",
            "/kaggle/input/foodmclass/Food/Orange/3 (28).jpg\n",
            "/kaggle/input/foodmclass/Food/Orange/2 (45).jpg\n",
            "/kaggle/input/foodmclass/Food/Orange/1 (52).jpg\n",
            "/kaggle/input/foodmclass/Food/Orange/2 (1).jpg\n",
            "/kaggle/input/foodmclass/Food/Orange/2 (16).jpg\n",
            "/kaggle/input/foodmclass/Food/Orange/1 (5).jpg\n",
            "/kaggle/input/foodmclass/Food/Orange/1 (15).jpg\n",
            "/kaggle/input/foodmclass/Food/Orange/3 (83).jpg\n",
            "/kaggle/input/foodmclass/Food/Orange/3 (81).jpg\n",
            "/kaggle/input/foodmclass/Food/Orange/3 (24).jpg\n",
            "/kaggle/input/foodmclass/Food/Orange/3 (7).jpg\n",
            "/kaggle/input/foodmclass/Food/Orange/3 (22).jpg\n",
            "/kaggle/input/foodmclass/Food/Orange/1 (29).jpg\n",
            "/kaggle/input/foodmclass/Food/Orange/3 (88).jpg\n",
            "/kaggle/input/foodmclass/Food/Orange/1 (37).jpg\n",
            "/kaggle/input/foodmclass/Food/Orange/3 (57).jpg\n",
            "/kaggle/input/foodmclass/Food/Orange/3 (44).jpg\n",
            "/kaggle/input/foodmclass/Food/Orange/2 (39).jpg\n",
            "/kaggle/input/foodmclass/Food/Orange/1 (26).jpg\n",
            "/kaggle/input/foodmclass/Food/Orange/2 (27).jpg\n",
            "/kaggle/input/foodmclass/Food/Orange/3 (33).jpg\n",
            "/kaggle/input/foodmclass/Food/Orange/2 (7).jpg\n",
            "/kaggle/input/foodmclass/Food/Orange/3 (18).jpg\n",
            "/kaggle/input/foodmclass/Food/Orange/2 (3).jpg\n",
            "/kaggle/input/foodmclass/Food/Orange/3 (4).jpg\n",
            "/kaggle/input/foodmclass/Food/Orange/2 (23).jpg\n",
            "/kaggle/input/foodmclass/Food/Orange/1 (27).jpg\n",
            "/kaggle/input/foodmclass/Food/Orange/2 (33).jpg\n",
            "/kaggle/input/foodmclass/Food/Orange/2 (10).jpg\n",
            "/kaggle/input/foodmclass/Food/Orange/3 (29).jpg\n",
            "/kaggle/input/foodmclass/Food/Orange/3 (76).jpg\n",
            "/kaggle/input/foodmclass/Food/Orange/3 (49).jpg\n",
            "/kaggle/input/foodmclass/Food/Orange/2 (41).jpg\n",
            "/kaggle/input/foodmclass/Food/Orange/3 (40).jpg\n",
            "/kaggle/input/foodmclass/Food/Orange/3 (30).jpg\n",
            "/kaggle/input/foodmclass/Food/Orange/1 (32).jpg\n",
            "/kaggle/input/foodmclass/Food/Orange/3 (63).jpg\n",
            "/kaggle/input/foodmclass/Food/Orange/3 (23).jpg\n",
            "/kaggle/input/foodmclass/Food/Orange/3 (61).jpg\n",
            "/kaggle/input/foodmclass/Food/Orange/2 (34).jpg\n",
            "/kaggle/input/foodmclass/Food/Orange/3 (65).jpg\n",
            "/kaggle/input/foodmclass/Food/Orange/3 (87).jpg\n",
            "/kaggle/input/foodmclass/Food/Orange/3 (43).jpg\n",
            "/kaggle/input/foodmclass/Food/Orange/2 (6).jpg\n",
            "/kaggle/input/foodmclass/Food/Orange/1 (50).jpg\n",
            "/kaggle/input/foodmclass/Food/Orange/1 (21).jpg\n",
            "/kaggle/input/foodmclass/Food/Orange/3 (5).jpg\n",
            "/kaggle/input/foodmclass/Food/Orange/3 (45).jpg\n",
            "/kaggle/input/foodmclass/Food/Orange/1 (7).jpg\n",
            "/kaggle/input/foodmclass/Food/Orange/3 (46).jpg\n",
            "/kaggle/input/foodmclass/Food/Orange/3 (31).jpg\n",
            "/kaggle/input/foodmclass/Food/Orange/1 (33).jpg\n",
            "/kaggle/input/foodmclass/Food/Orange/3 (51).jpg\n",
            "/kaggle/input/foodmclass/Food/Orange/3 (41).jpg\n",
            "/kaggle/input/foodmclass/Food/Orange/2 (37).jpg\n",
            "/kaggle/input/foodmclass/Food/Orange/1 (16).jpg\n",
            "/kaggle/input/foodmclass/Food/Orange/1 (40).jpg\n",
            "/kaggle/input/foodmclass/Food/Orange/1 (45).jpg\n",
            "/kaggle/input/foodmclass/Food/Orange/3 (90).jpg\n",
            "/kaggle/input/foodmclass/Food/Orange/1 (12).jpg\n",
            "/kaggle/input/foodmclass/Food/Orange/3 (77).jpg\n",
            "/kaggle/input/foodmclass/Food/Orange/3 (71).jpg\n",
            "/kaggle/input/foodmclass/Food/Orange/1 (48).jpg\n",
            "/kaggle/input/foodmclass/Food/Orange/1 (39).jpg\n",
            "/kaggle/input/foodmclass/Food/Orange/1 (46).jpg\n",
            "/kaggle/input/foodmclass/Food/Orange/3 (73).jpg\n",
            "/kaggle/input/foodmclass/Food/Orange/2 (18).jpg\n",
            "/kaggle/input/foodmclass/Food/Orange/2 (44).jpg\n",
            "/kaggle/input/foodmclass/Food/Orange/2 (32).jpg\n",
            "/kaggle/input/foodmclass/Food/Orange/2 (35).jpg\n",
            "/kaggle/input/foodmclass/Food/Orange/2 (38).jpg\n",
            "/kaggle/input/foodmclass/Food/Orange/3 (2).jpg\n",
            "/kaggle/input/foodmclass/Food/Orange/3 (8).jpg\n",
            "/kaggle/input/foodmclass/Food/Orange/3 (64).jpg\n",
            "/kaggle/input/foodmclass/Food/Tomato/4 (10).jpg\n",
            "/kaggle/input/foodmclass/Food/Tomato/2 (10) - Copy.jpg\n",
            "/kaggle/input/foodmclass/Food/Tomato/2 (13).jpg\n",
            "/kaggle/input/foodmclass/Food/Tomato/2 (14).jpg\n",
            "/kaggle/input/foodmclass/Food/Tomato/2 (11) - Copy.jpg\n",
            "/kaggle/input/foodmclass/Food/Tomato/2 (2).jpg\n",
            "/kaggle/input/foodmclass/Food/Tomato/2 (12) - Copy.jpg\n",
            "/kaggle/input/foodmclass/Food/Tomato/2 (12).jpg\n",
            "/kaggle/input/foodmclass/Food/Tomato/2 (11).jpg\n",
            "/kaggle/input/foodmclass/Food/Tomato/2 (1).jpg\n",
            "/kaggle/input/foodmclass/Food/Tomato/2 (23).jpg\n",
            "/kaggle/input/foodmclass/Food/Tomato/2 (10).jpg\n",
            "/kaggle/input/foodmclass/Food/Apple/2 (26).jpg\n",
            "/kaggle/input/foodmclass/Food/Apple/3 (78).jpg\n",
            "/kaggle/input/foodmclass/Food/Apple/5 (18).JPG\n",
            "/kaggle/input/foodmclass/Food/Apple/5 (20).JPG\n",
            "/kaggle/input/foodmclass/Food/Apple/5 (21).JPG\n",
            "/kaggle/input/foodmclass/Food/Apple/5 (25).JPG\n",
            "/kaggle/input/foodmclass/Food/Apple/3 (68).jpg\n",
            "/kaggle/input/foodmclass/Food/Apple/5 (30).JPG\n",
            "/kaggle/input/foodmclass/Food/Apple/5 (31).JPG\n",
            "/kaggle/input/foodmclass/Food/Apple/2 (13).jpg\n",
            "/kaggle/input/foodmclass/Food/Apple/2 (14).jpg\n",
            "/kaggle/input/foodmclass/Food/Apple/5 (12).JPG\n",
            "/kaggle/input/foodmclass/Food/Apple/5 (33).JPG\n",
            "/kaggle/input/foodmclass/Food/Apple/5 (29).JPG\n",
            "/kaggle/input/foodmclass/Food/Apple/2 (20).jpg\n",
            "/kaggle/input/foodmclass/Food/Apple/3 (74).jpg\n",
            "/kaggle/input/foodmclass/Food/Apple/2 (25).jpg\n",
            "/kaggle/input/foodmclass/Food/Apple/2 (21).jpg\n",
            "/kaggle/input/foodmclass/Food/Apple/2 (17).jpg\n",
            "/kaggle/input/foodmclass/Food/Apple/5 (17).JPG\n",
            "/kaggle/input/foodmclass/Food/Apple/2 (19).jpg\n",
            "/kaggle/input/foodmclass/Food/Apple/5 (11).JPG\n",
            "/kaggle/input/foodmclass/Food/Apple/2 (29).jpg\n",
            "/kaggle/input/foodmclass/Food/Apple/2 (22).jpg\n",
            "/kaggle/input/foodmclass/Food/Apple/5 (24).JPG\n",
            "/kaggle/input/foodmclass/Food/Apple/2 (2).jpg\n",
            "/kaggle/input/foodmclass/Food/Apple/2 (24).jpg\n",
            "/kaggle/input/foodmclass/Food/Apple/5 (3).JPG\n",
            "/kaggle/input/foodmclass/Food/Apple/2 (12).jpg\n",
            "/kaggle/input/foodmclass/Food/Apple/2 (11).jpg\n",
            "/kaggle/input/foodmclass/Food/Apple/2 (28).jpg\n",
            "/kaggle/input/foodmclass/Food/Apple/2 (15).jpg\n",
            "/kaggle/input/foodmclass/Food/Apple/5 (32).JPG\n",
            "/kaggle/input/foodmclass/Food/Apple/2 (1).jpg\n",
            "/kaggle/input/foodmclass/Food/Apple/2 (16).jpg\n",
            "/kaggle/input/foodmclass/Food/Apple/5 (22).JPG\n",
            "/kaggle/input/foodmclass/Food/Apple/5 (28).JPG\n",
            "/kaggle/input/foodmclass/Food/Apple/5 (23).JPG\n",
            "/kaggle/input/foodmclass/Food/Apple/2 (27).jpg\n",
            "/kaggle/input/foodmclass/Food/Apple/2 (23).jpg\n",
            "/kaggle/input/foodmclass/Food/Apple/2 (10).jpg\n",
            "/kaggle/input/foodmclass/Food/Apple/3 (76).jpg\n",
            "/kaggle/input/foodmclass/Food/Apple/5 (13).JPG\n",
            "/kaggle/input/foodmclass/Food/Apple/5 (27).JPG\n",
            "/kaggle/input/foodmclass/Food/Apple/5 (16).JPG\n",
            "/kaggle/input/foodmclass/Food/Apple/3 (71).jpg\n",
            "/kaggle/input/foodmclass/Food/Apple/5 (2).JPG\n",
            "/kaggle/input/foodmclass/Food/Apple/3 (73).jpg\n",
            "/kaggle/input/foodmclass/Food/Apple/2 (18).jpg\n",
            "/kaggle/input/foodmclass/Food/Apple/5 (19).JPG\n",
            "/kaggle/input/foodmclass/Food/Apple/5 (26).JPG\n",
            "/kaggle/input/foodmclass/Food/Apple/5 (14).JPG\n",
            "/kaggle/input/foodmclass/Food/Apple/5 (15).JPG\n",
            "/kaggle/input/foodmclass/Food/Carrot/5-CanonSD-1400-Light Environment/5 (58).JPG\n",
            "/kaggle/input/foodmclass/Food/Carrot/5-CanonSD-1400-Light Environment/5 (61).JPG\n",
            "/kaggle/input/foodmclass/Food/Carrot/5-CanonSD-1400-Light Environment/5 (72).JPG\n",
            "/kaggle/input/foodmclass/Food/Carrot/5-CanonSD-1400-Light Environment/5 (62).JPG\n",
            "/kaggle/input/foodmclass/Food/Carrot/5-CanonSD-1400-Light Environment/5 (51).JPG\n",
            "/kaggle/input/foodmclass/Food/Carrot/5-CanonSD-1400-Light Environment/5 (73).JPG\n",
            "/kaggle/input/foodmclass/Food/Carrot/5-CanonSD-1400-Light Environment/5 (70).JPG\n",
            "/kaggle/input/foodmclass/Food/Carrot/5-CanonSD-1400-Light Environment/5 (68).JPG\n",
            "/kaggle/input/foodmclass/Food/Carrot/5-CanonSD-1400-Light Environment/5 (60).JPG\n",
            "/kaggle/input/foodmclass/Food/Carrot/5-CanonSD-1400-Light Environment/5 (69).JPG\n",
            "/kaggle/input/foodmclass/Food/Carrot/5-CanonSD-1400-Light Environment/5 (56).JPG\n",
            "/kaggle/input/foodmclass/Food/Carrot/5-CanonSD-1400-Light Environment/5 (54).JPG\n",
            "/kaggle/input/foodmclass/Food/Carrot/5-CanonSD-1400-Light Environment/5 (67).JPG\n",
            "/kaggle/input/foodmclass/Food/Carrot/5-CanonSD-1400-Light Environment/5 (74).JPG\n",
            "/kaggle/input/foodmclass/Food/Carrot/5-CanonSD-1400-Light Environment/5 (71).JPG\n",
            "/kaggle/input/foodmclass/Food/Carrot/5-CanonSD-1400-Light Environment/5 (64).JPG\n",
            "/kaggle/input/foodmclass/Food/Carrot/5-CanonSD-1400-Light Environment/5 (66).JPG\n",
            "/kaggle/input/foodmclass/Food/Carrot/5-CanonSD-1400-Light Environment/5 (65).JPG\n",
            "/kaggle/input/foodmclass/Food/Carrot/5-CanonSD-1400-Light Environment/5 (59).JPG\n",
            "/kaggle/input/foodmclass/Food/Carrot/5-CanonSD-1400-Light Environment/5 (55).JPG\n",
            "/kaggle/input/foodmclass/Food/Carrot/5-CanonSD-1400-Light Environment/5 (57).JPG\n",
            "/kaggle/input/foodmclass/Food/Carrot/5-CanonSD-1400-Light Environment/5 (50).JPG\n",
            "/kaggle/input/foodmclass/Food/Carrot/5-CanonSD-1400-Light Environment/5 (52).JPG\n",
            "/kaggle/input/foodmclass/Food/Carrot/5-CanonSD-1400-Light Environment/5 (63).JPG\n",
            "/kaggle/input/foodmclass/Food/Carrot/5-CanonSD-1400-Light Environment/5 (53).JPG\n",
            "/kaggle/input/foodmclass/Food/Pepper/6 (37).JPG\n",
            "/kaggle/input/foodmclass/Food/Pepper/6 (22).JPG\n",
            "/kaggle/input/foodmclass/Food/Pepper/6 (33).JPG\n",
            "/kaggle/input/foodmclass/Food/Pepper/6 (36).JPG\n",
            "/kaggle/input/foodmclass/Food/Pepper/6 (18).JPG\n",
            "/kaggle/input/foodmclass/Food/Pepper/6 (30).JPG\n",
            "/kaggle/input/foodmclass/Food/Pepper/6 (34).JPG\n",
            "/kaggle/input/foodmclass/Food/Pepper/6 (32).JPG\n",
            "/kaggle/input/foodmclass/Food/Pepper/6 (21).JPG\n",
            "/kaggle/input/foodmclass/Food/Pepper/6 (39).JPG\n",
            "/kaggle/input/foodmclass/Food/Pepper/6 (35).JPG\n",
            "/kaggle/input/foodmclass/Food/Pepper/6 (24).JPG\n",
            "/kaggle/input/foodmclass/Food/Pepper/6 (29).JPG\n",
            "/kaggle/input/foodmclass/Food/Pepper/6 (40).JPG\n",
            "/kaggle/input/foodmclass/Food/Pepper/6 (26).JPG\n",
            "/kaggle/input/foodmclass/Food/Pepper/6 (41).JPG\n",
            "/kaggle/input/foodmclass/Food/Pepper/6 (31).JPG\n",
            "/kaggle/input/foodmclass/Food/Pepper/6 (38).JPG\n",
            "/kaggle/input/foodmclass/Food/Pepper/6 (20).JPG\n",
            "/kaggle/input/foodmclass/Food/Pepper/6 (23).JPG\n",
            "/kaggle/input/foodmclass/Food/Pepper/6 (27).JPG\n",
            "/kaggle/input/foodmclass/Food/Pepper/6 (28).JPG\n",
            "/kaggle/input/foodmclass/Food/Pepper/6 (19).JPG\n",
            "/kaggle/input/foodmclass/Food/Pepper/6 (17).JPG\n",
            "/kaggle/input/foodmclass/Food/Pepper/6 (25).JPG\n",
            "/kaggle/input/foodmclass/Food/Cucumber/6 (18).JPG\n",
            "/kaggle/input/foodmclass/Food/Cucumber/6 (11).JPG\n",
            "/kaggle/input/foodmclass/Food/Cucumber/6 (13).JPG\n",
            "/kaggle/input/foodmclass/Food/Cucumber/6 (2).JPG\n",
            "/kaggle/input/foodmclass/Food/Cucumber/6 (1).JPG\n",
            "/kaggle/input/foodmclass/Food/Cucumber/6 (6).JPG\n",
            "/kaggle/input/foodmclass/Food/Cucumber/6 (16).JPG\n",
            "/kaggle/input/foodmclass/Food/Cucumber/6 (15).JPG\n",
            "/kaggle/input/foodmclass/Food/Cucumber/6 (4).JPG\n",
            "/kaggle/input/foodmclass/Food/Cucumber/6 (12).JPG\n",
            "/kaggle/input/foodmclass/Food/Cucumber/6 (10).JPG\n",
            "/kaggle/input/foodmclass/Food/Cucumber/6 (14).JPG\n",
            "/kaggle/input/foodmclass/Food/Cucumber/6 (3).JPG\n",
            "/kaggle/input/foodmclass/Food/Cucumber/6 (7).JPG\n",
            "/kaggle/input/foodmclass/Food/Cucumber/6 (5).JPG\n",
            "/kaggle/input/foodmclass/Food/Cucumber/6 (17).JPG\n",
            "/kaggle/input/foodmclass/Food/Banana/5 (58).JPG\n",
            "/kaggle/input/foodmclass/Food/Banana/5 (6).JPG\n",
            "/kaggle/input/foodmclass/Food/Banana/5 (61).JPG\n",
            "/kaggle/input/foodmclass/Food/Banana/5 (4).JPG\n",
            "/kaggle/input/foodmclass/Food/Banana/5 (51).JPG\n",
            "/kaggle/input/foodmclass/Food/Banana/5 (44).JPG\n",
            "/kaggle/input/foodmclass/Food/Banana/5 (5).JPG\n",
            "/kaggle/input/foodmclass/Food/Banana/5 (46).JPG\n",
            "/kaggle/input/foodmclass/Food/Banana/5 (42).JPG\n",
            "/kaggle/input/foodmclass/Food/Banana/5 (60).JPG\n",
            "/kaggle/input/foodmclass/Food/Banana/5 (56).JPG\n",
            "/kaggle/input/foodmclass/Food/Banana/5 (54).JPG\n",
            "/kaggle/input/foodmclass/Food/Banana/5 (45).JPG\n",
            "/kaggle/input/foodmclass/Food/Banana/5 (43).JPG\n",
            "/kaggle/input/foodmclass/Food/Banana/5 (59).JPG\n",
            "/kaggle/input/foodmclass/Food/Banana/5 (40).JPG\n",
            "/kaggle/input/foodmclass/Food/Banana/5 (55).JPG\n",
            "/kaggle/input/foodmclass/Food/Banana/5 (57).JPG\n",
            "/kaggle/input/foodmclass/Food/Banana/5 (41).JPG\n",
            "/kaggle/input/foodmclass/Food/Banana/5 (48).JPG\n",
            "/kaggle/input/foodmclass/Food/Banana/5 (49).JPG\n",
            "/kaggle/input/foodmclass/Food/Banana/5 (47).JPG\n",
            "/kaggle/input/foodmclass/Food/Banana/5 (50).JPG\n",
            "/kaggle/input/foodmclass/Food/Banana/5 (52).JPG\n",
            "/kaggle/input/foodmclass/Food/Banana/5 (53).JPG\n",
            "/kaggle/input/foodmclass/Food/Egg/4 (21).jpg\n",
            "/kaggle/input/foodmclass/Food/Egg/2 (43).jpg\n",
            "/kaggle/input/foodmclass/Food/Egg/4 (5).jpg\n",
            "/kaggle/input/foodmclass/Food/Egg/4 (43).jpg\n",
            "/kaggle/input/foodmclass/Food/Egg/4 (46).jpg\n",
            "/kaggle/input/foodmclass/Food/Egg/2 (30).jpg\n",
            "/kaggle/input/foodmclass/Food/Egg/4 (22).jpg\n",
            "/kaggle/input/foodmclass/Food/Egg/4 (2).jpg\n",
            "/kaggle/input/foodmclass/Food/Egg/2 (42).jpg\n",
            "/kaggle/input/foodmclass/Food/Egg/4 (37).jpg\n",
            "/kaggle/input/foodmclass/Food/Egg/4 (20).jpg\n",
            "/kaggle/input/foodmclass/Food/Egg/2 (31).jpg\n",
            "/kaggle/input/foodmclass/Food/Egg/2 (48).jpg\n",
            "/kaggle/input/foodmclass/Food/Egg/4 (45).jpg\n",
            "/kaggle/input/foodmclass/Food/Egg/2 (46).jpg\n",
            "/kaggle/input/foodmclass/Food/Egg/4 (23).jpg\n",
            "/kaggle/input/foodmclass/Food/Egg/4 (19).jpg\n",
            "/kaggle/input/foodmclass/Food/Egg/2 (4).jpg\n",
            "/kaggle/input/foodmclass/Food/Egg/4 (8).jpg\n",
            "/kaggle/input/foodmclass/Food/Egg/4 (40).jpg\n",
            "/kaggle/input/foodmclass/Food/Egg/4 (7).jpg\n",
            "/kaggle/input/foodmclass/Food/Egg/4 (41).jpg\n",
            "/kaggle/input/foodmclass/Food/Egg/4 (47).jpg\n",
            "/kaggle/input/foodmclass/Food/Egg/4 (44).jpg\n",
            "/kaggle/input/foodmclass/Food/Egg/2 (9).jpg\n",
            "/kaggle/input/foodmclass/Food/Egg/2 (5).jpg\n",
            "/kaggle/input/foodmclass/Food/Egg/2 (8).jpg\n",
            "/kaggle/input/foodmclass/Food/Egg/4 (3).jpg\n",
            "/kaggle/input/foodmclass/Food/Egg/2 (40).jpg\n",
            "/kaggle/input/foodmclass/Food/Egg/4 (9).jpg\n",
            "/kaggle/input/foodmclass/Food/Egg/2 (36).jpg\n",
            "/kaggle/input/foodmclass/Food/Egg/4 (38).jpg\n",
            "/kaggle/input/foodmclass/Food/Egg/2 (45).jpg\n",
            "/kaggle/input/foodmclass/Food/Egg/4 (35).jpg\n",
            "/kaggle/input/foodmclass/Food/Egg/4 (4).jpg\n",
            "/kaggle/input/foodmclass/Food/Egg/2 (39).jpg\n",
            "/kaggle/input/foodmclass/Food/Egg/4 (24).jpg\n",
            "/kaggle/input/foodmclass/Food/Egg/2 (7).jpg\n",
            "/kaggle/input/foodmclass/Food/Egg/2 (33).jpg\n",
            "/kaggle/input/foodmclass/Food/Egg/2 (41).jpg\n",
            "/kaggle/input/foodmclass/Food/Egg/4 (39).jpg\n",
            "/kaggle/input/foodmclass/Food/Egg/2 (34).jpg\n",
            "/kaggle/input/foodmclass/Food/Egg/2 (6).jpg\n",
            "/kaggle/input/foodmclass/Food/Egg/2 (47).jpg\n",
            "/kaggle/input/foodmclass/Food/Egg/2 (37).jpg\n",
            "/kaggle/input/foodmclass/Food/Egg/4 (6).jpg\n",
            "/kaggle/input/foodmclass/Food/Egg/2 (44).jpg\n",
            "/kaggle/input/foodmclass/Food/Egg/2 (32).jpg\n",
            "/kaggle/input/foodmclass/Food/Egg/2 (35).jpg\n",
            "/kaggle/input/foodmclass/Food/Egg/2 (38).jpg\n",
            "/kaggle/input/foodmclass/Food/Onion/3 (78).jpg\n",
            "/kaggle/input/foodmclass/Food/Onion/3 (86).jpg\n",
            "/kaggle/input/foodmclass/Food/Onion/4 (5).jpg\n",
            "/kaggle/input/foodmclass/Food/Onion/3 (91).jpg\n",
            "/kaggle/input/foodmclass/Food/Onion/4 (46).jpg\n",
            "/kaggle/input/foodmclass/Food/Onion/3 (85).jpg\n",
            "/kaggle/input/foodmclass/Food/Onion/4 (37).jpg\n",
            "/kaggle/input/foodmclass/Food/Onion/3 (94).jpg\n",
            "/kaggle/input/foodmclass/Food/Onion/4 (57).jpg\n",
            "/kaggle/input/foodmclass/Food/Onion/4 (53).jpg\n",
            "/kaggle/input/foodmclass/Food/Onion/4 (56).jpg\n",
            "/kaggle/input/foodmclass/Food/Onion/4 (59).jpg\n",
            "/kaggle/input/foodmclass/Food/Onion/4 (55).jpg\n",
            "/kaggle/input/foodmclass/Food/Onion/4 (45).jpg\n",
            "/kaggle/input/foodmclass/Food/Onion/3 (79).jpg\n",
            "/kaggle/input/foodmclass/Food/Onion/4 (51).jpg\n",
            "/kaggle/input/foodmclass/Food/Onion/3 (89).jpg\n",
            "/kaggle/input/foodmclass/Food/Onion/3 (80).jpg\n",
            "/kaggle/input/foodmclass/Food/Onion/3 (9).jpg\n",
            "/kaggle/input/foodmclass/Food/Onion/3 (97).jpg\n",
            "/kaggle/input/foodmclass/Food/Onion/3 (84).jpg\n",
            "/kaggle/input/foodmclass/Food/Onion/3 (92).jpg\n",
            "/kaggle/input/foodmclass/Food/Onion/4 (40).jpg\n",
            "/kaggle/input/foodmclass/Food/Onion/4 (41).jpg\n",
            "/kaggle/input/foodmclass/Food/Onion/4 (47).jpg\n",
            "/kaggle/input/foodmclass/Food/Onion/3 (98).jpg\n",
            "/kaggle/input/foodmclass/Food/Onion/4 (44).jpg\n",
            "/kaggle/input/foodmclass/Food/Onion/3 (96).jpg\n",
            "/kaggle/input/foodmclass/Food/Onion/4 (54).jpg\n",
            "/kaggle/input/foodmclass/Food/Onion/3 (99).jpg\n",
            "/kaggle/input/foodmclass/Food/Onion/4 (49).jpg\n",
            "/kaggle/input/foodmclass/Food/Onion/3 (82).jpg\n",
            "/kaggle/input/foodmclass/Food/Onion/4 (38).jpg\n",
            "/kaggle/input/foodmclass/Food/Onion/3 (83).jpg\n",
            "/kaggle/input/foodmclass/Food/Onion/4 (42).jpg\n",
            "/kaggle/input/foodmclass/Food/Onion/3 (81).jpg\n",
            "/kaggle/input/foodmclass/Food/Onion/4 (4).jpg\n",
            "/kaggle/input/foodmclass/Food/Onion/3 (88).jpg\n",
            "/kaggle/input/foodmclass/Food/Onion/4 (39).jpg\n",
            "/kaggle/input/foodmclass/Food/Onion/3 (93).jpg\n",
            "/kaggle/input/foodmclass/Food/Onion/3 (87).jpg\n",
            "/kaggle/input/foodmclass/Food/Onion/3 (95).jpg\n",
            "/kaggle/input/foodmclass/Food/Onion/4 (52).jpg\n",
            "/kaggle/input/foodmclass/Food/Onion/3 (90).jpg\n",
            "/kaggle/input/foodmclass/Food/Onion/4 (6).jpg\n",
            "/kaggle/input/foodmclass/Food/Onion/4 (50).jpg\n",
            "/kaggle/input/foodmclass/Food/Onion/3 (77).jpg\n",
            "/kaggle/input/foodmclass/Food/Onion/4 (58).jpg\n",
            "/kaggle/input/foodmclass/Food/Onion/4 (48).jpg\n",
            "/kaggle/input/foodmclass/Food/Onion/3 (8).jpg\n"
          ],
          "name": "stdout"
        }
      ]
    },
    {
      "cell_type": "code",
      "metadata": {
        "_cell_guid": "79c7e3d0-c299-4dcb-8224-4455121ee9b0",
        "_uuid": "d629ff2d2480ee46fbb7e2d37f6b5fab8052498a",
        "execution": {
          "iopub.status.busy": "2021-08-09T14:35:17.496003Z",
          "iopub.execute_input": "2021-08-09T14:35:17.496414Z",
          "iopub.status.idle": "2021-08-09T14:35:24.295939Z",
          "shell.execute_reply.started": "2021-08-09T14:35:17.496377Z",
          "shell.execute_reply": "2021-08-09T14:35:24.294616Z"
        },
        "trusted": true,
        "id": "F47844EtbIrY"
      },
      "source": [
        "import tensorflow as tf\n",
        "import numpy as np\n",
        "import pandas as pd\n",
        "import cv2\n",
        "import os\n",
        "import matplotlib.pyplot as plt\n",
        "from tensorflow.keras.preprocessing.image import ImageDataGenerator\n",
        "from tensorflow.keras.preprocessing import image\n",
        "from tensorflow.keras.optimizers import RMSprop"
      ],
      "execution_count": null,
      "outputs": []
    },
    {
      "cell_type": "code",
      "metadata": {
        "execution": {
          "iopub.status.busy": "2021-08-09T14:35:24.298772Z",
          "iopub.execute_input": "2021-08-09T14:35:24.299151Z",
          "iopub.status.idle": "2021-08-09T14:35:24.305524Z",
          "shell.execute_reply.started": "2021-08-09T14:35:24.299116Z",
          "shell.execute_reply": "2021-08-09T14:35:24.303695Z"
        },
        "trusted": true,
        "id": "x9Hrxg2_bIrZ"
      },
      "source": [
        "train = ImageDataGenerator(rescale = 1/255)"
      ],
      "execution_count": null,
      "outputs": []
    },
    {
      "cell_type": "code",
      "metadata": {
        "execution": {
          "iopub.status.busy": "2021-08-09T14:35:24.307945Z",
          "iopub.execute_input": "2021-08-09T14:35:24.308452Z",
          "iopub.status.idle": "2021-08-09T14:35:24.425011Z",
          "shell.execute_reply.started": "2021-08-09T14:35:24.308399Z",
          "shell.execute_reply": "2021-08-09T14:35:24.423791Z"
        },
        "trusted": true,
        "id": "_hCzc4W5bIra",
        "outputId": "40e73986-7f81-4739-e35b-3a82e32de43a"
      },
      "source": [
        "train_df = train.flow_from_directory('../input/foodmclass/Food',target_size = (200,200),class_mode = 'categorical')"
      ],
      "execution_count": null,
      "outputs": [
        {
          "output_type": "stream",
          "text": [
            "Found 444 images belonging to 9 classes.\n"
          ],
          "name": "stdout"
        }
      ]
    },
    {
      "cell_type": "code",
      "metadata": {
        "execution": {
          "iopub.status.busy": "2021-08-09T14:35:24.426932Z",
          "iopub.execute_input": "2021-08-09T14:35:24.427339Z",
          "iopub.status.idle": "2021-08-09T14:35:24.437639Z",
          "shell.execute_reply.started": "2021-08-09T14:35:24.427290Z",
          "shell.execute_reply": "2021-08-09T14:35:24.436493Z"
        },
        "trusted": true,
        "id": "bp90opYDbIra",
        "outputId": "c301db0d-0eb8-4f33-a137-5eb5d138f72d"
      },
      "source": [
        "train_df.class_indices"
      ],
      "execution_count": null,
      "outputs": [
        {
          "output_type": "execute_result",
          "data": {
            "text/plain": [
              "{'Apple': 0,\n",
              " 'Banana': 1,\n",
              " 'Carrot': 2,\n",
              " 'Cucumber': 3,\n",
              " 'Egg': 4,\n",
              " 'Onion': 5,\n",
              " 'Orange': 6,\n",
              " 'Pepper': 7,\n",
              " 'Tomato': 8}"
            ]
          },
          "metadata": {
            "tags": []
          },
          "execution_count": 5
        }
      ]
    },
    {
      "cell_type": "code",
      "metadata": {
        "execution": {
          "iopub.status.busy": "2021-08-09T14:35:24.439175Z",
          "iopub.execute_input": "2021-08-09T14:35:24.439498Z",
          "iopub.status.idle": "2021-08-09T14:35:24.452107Z",
          "shell.execute_reply.started": "2021-08-09T14:35:24.439451Z",
          "shell.execute_reply": "2021-08-09T14:35:24.450945Z"
        },
        "trusted": true,
        "id": "EGAfcX0cbIrb",
        "outputId": "7ed29278-92aa-410a-f5a1-8979b923d4f1"
      },
      "source": [
        "train_df"
      ],
      "execution_count": null,
      "outputs": [
        {
          "output_type": "execute_result",
          "data": {
            "text/plain": [
              "<tensorflow.python.keras.preprocessing.image.DirectoryIterator at 0x7f22dcb39410>"
            ]
          },
          "metadata": {
            "tags": []
          },
          "execution_count": 6
        }
      ]
    },
    {
      "cell_type": "code",
      "metadata": {
        "execution": {
          "iopub.status.busy": "2021-08-09T14:35:24.453506Z",
          "iopub.execute_input": "2021-08-09T14:35:24.453908Z",
          "iopub.status.idle": "2021-08-09T14:35:24.525906Z",
          "shell.execute_reply.started": "2021-08-09T14:35:24.453876Z",
          "shell.execute_reply": "2021-08-09T14:35:24.524621Z"
        },
        "trusted": true,
        "colab": {
          "base_uri": "https://localhost:8080/",
          "height": 388
        },
        "id": "nqQ6LY5abIrb",
        "outputId": "c789ac2b-4d50-4b81-c57d-b613fd3bc4ed"
      },
      "source": [
        "from keras.utils import to_categorical\n",
        "from keras.applications.vgg16 import VGG16\n",
        "from keras.models import Model\n",
        "from keras.layers import Dense\n",
        "from keras.layers import Flatten\n",
        "from keras.optimizers import SGD"
      ],
      "execution_count": null,
      "outputs": [
        {
          "output_type": "error",
          "ename": "ImportError",
          "evalue": "ignored",
          "traceback": [
            "\u001b[0;31m---------------------------------------------------------------------------\u001b[0m",
            "\u001b[0;31mImportError\u001b[0m                               Traceback (most recent call last)",
            "\u001b[0;32m<ipython-input-13-e49b872ab505>\u001b[0m in \u001b[0;36m<module>\u001b[0;34m()\u001b[0m\n\u001b[0;32m----> 1\u001b[0;31m \u001b[0;32mfrom\u001b[0m \u001b[0mkeras\u001b[0m\u001b[0;34m.\u001b[0m\u001b[0mutils\u001b[0m \u001b[0;32mimport\u001b[0m \u001b[0mto_categorical\u001b[0m\u001b[0;34m\u001b[0m\u001b[0;34m\u001b[0m\u001b[0m\n\u001b[0m\u001b[1;32m      2\u001b[0m \u001b[0;32mfrom\u001b[0m \u001b[0mkeras\u001b[0m\u001b[0;34m.\u001b[0m\u001b[0mapplications\u001b[0m\u001b[0;34m.\u001b[0m\u001b[0mvgg16\u001b[0m \u001b[0;32mimport\u001b[0m \u001b[0mVGG16\u001b[0m\u001b[0;34m\u001b[0m\u001b[0;34m\u001b[0m\u001b[0m\n\u001b[1;32m      3\u001b[0m \u001b[0;32mfrom\u001b[0m \u001b[0mkeras\u001b[0m\u001b[0;34m.\u001b[0m\u001b[0mmodels\u001b[0m \u001b[0;32mimport\u001b[0m \u001b[0mModel\u001b[0m\u001b[0;34m\u001b[0m\u001b[0;34m\u001b[0m\u001b[0m\n\u001b[1;32m      4\u001b[0m \u001b[0;32mfrom\u001b[0m \u001b[0mkeras\u001b[0m\u001b[0;34m.\u001b[0m\u001b[0mlayers\u001b[0m \u001b[0;32mimport\u001b[0m \u001b[0mDense\u001b[0m\u001b[0;34m\u001b[0m\u001b[0;34m\u001b[0m\u001b[0m\n\u001b[1;32m      5\u001b[0m \u001b[0;32mfrom\u001b[0m \u001b[0mkeras\u001b[0m\u001b[0;34m.\u001b[0m\u001b[0mlayers\u001b[0m \u001b[0;32mimport\u001b[0m \u001b[0mFlatten\u001b[0m\u001b[0;34m\u001b[0m\u001b[0;34m\u001b[0m\u001b[0m\n",
            "\u001b[0;31mImportError\u001b[0m: cannot import name 'to_categorical' from 'keras.utils' (/usr/local/lib/python3.7/dist-packages/keras/utils/__init__.py)",
            "",
            "\u001b[0;31m---------------------------------------------------------------------------\u001b[0;32m\nNOTE: If your import is failing due to a missing package, you can\nmanually install dependencies using either !pip or !apt.\n\nTo view examples of installing some common dependencies, click the\n\"Open Examples\" button below.\n\u001b[0;31m---------------------------------------------------------------------------\u001b[0m\n"
          ]
        }
      ]
    },
    {
      "cell_type": "code",
      "metadata": {
        "execution": {
          "iopub.status.busy": "2021-08-09T14:35:24.528786Z",
          "iopub.execute_input": "2021-08-09T14:35:24.529112Z",
          "iopub.status.idle": "2021-08-09T14:35:24.761183Z",
          "shell.execute_reply.started": "2021-08-09T14:35:24.529083Z",
          "shell.execute_reply": "2021-08-09T14:35:24.760065Z"
        },
        "trusted": true,
        "id": "rt28c2OlbIrc"
      },
      "source": [
        "#done by raj\n",
        "model = tf.keras.models.Sequential([tf.keras.layers.Conv2D(64,(3,3),activation = 'relu',input_shape = (200,200,3)),\n",
        "                                   tf.keras.layers.MaxPool2D(2,2),\n",
        "                                   tf.keras.layers.Conv2D(64,(3,3),activation = 'relu'),\n",
        "                                   tf.keras.layers.MaxPool2D(2,2),\n",
        "                                   tf.keras.layers.Conv2D(128 ,(3,3),activation = 'relu'),\n",
        "                                   tf.keras.layers.MaxPool2D(2,2),\n",
        "                                   tf.keras.layers.Conv2D(128 ,(3,3),activation = 'tanh'),\n",
        "                                   tf.keras.layers.MaxPool2D(2,2),\n",
        "                                   tf.keras.layers.Flatten(),\n",
        "                                   tf.keras.layers.Dense(512,activation = 'relu'),\n",
        "                                   tf.keras.layers.Dense(9,activation = 'softmax')\n",
        "                                   ])\n"
      ],
      "execution_count": null,
      "outputs": []
    },
    {
      "cell_type": "code",
      "metadata": {
        "execution": {
          "iopub.status.busy": "2021-08-09T14:50:02.158628Z",
          "iopub.execute_input": "2021-08-09T14:50:02.159013Z",
          "iopub.status.idle": "2021-08-09T14:50:02.315826Z",
          "shell.execute_reply.started": "2021-08-09T14:50:02.158981Z",
          "shell.execute_reply": "2021-08-09T14:50:02.314829Z"
        },
        "trusted": true,
        "id": "iXoSZm1jbIrc"
      },
      "source": [
        "#attempt 1 by dinesh-creating custom cnn\n",
        "from keras.models import Sequential\n",
        "model = Sequential() \n",
        "model.add(tf.keras.layers.Conv2D(64, kernel_size=(3,3),activation='relu',input_shape = (200,200,3)))\n",
        "model.add(tf.keras.layers.MaxPool2D(pool_size=(2, 2),  strides = (3,3)))\n",
        "model.add(tf.keras.layers.Conv2D(64, (3, 3), activation='relu'))\n",
        "model.add(tf.keras.layers.MaxPool2D(pool_size=(2, 2), strides = (3,3))) \n",
        "model.add(tf.keras.layers.Conv2D(128, (3, 3), activation='relu'))\n",
        "model.add(tf.keras.layers.Conv2D(128, (3, 3), activation='relu'))\n",
        "model.add(tf.keras.layers.MaxPool2D(pool_size=(2, 2), strides = (3,3)))  \n",
        "model.add(tf.keras.layers.Flatten())\n",
        "model.add(tf.keras.layers.Dense(128, activation='relu'))\n",
        "model.add(tf.keras.layers.Dense(64, activation='relu'))\n",
        "model.add(tf.keras.layers.Dense(32, activation='relu'))\n",
        "model.add(tf.keras.layers.Dropout(0.3))\n",
        "model.add(tf.keras.layers.Dense(9, activation='softmax', name = 'Output_Layer'))\n",
        "model.compile(loss = 'categorical_crossentropy', optimizer = \"adam\", metrics = ['accuracy'])"
      ],
      "execution_count": null,
      "outputs": []
    },
    {
      "cell_type": "code",
      "metadata": {
        "execution": {
          "iopub.status.busy": "2021-08-09T14:41:59.979748Z",
          "iopub.execute_input": "2021-08-09T14:41:59.980123Z",
          "iopub.status.idle": "2021-08-09T14:41:59.991327Z",
          "shell.execute_reply.started": "2021-08-09T14:41:59.980092Z",
          "shell.execute_reply": "2021-08-09T14:41:59.989864Z"
        },
        "trusted": true,
        "id": "cT225e49bIrd",
        "outputId": "3025a77c-22c5-44c2-b988-97437bacdb01"
      },
      "source": [
        ""
      ],
      "execution_count": null,
      "outputs": [
        {
          "output_type": "error",
          "ename": "SyntaxError",
          "evalue": "invalid syntax (<ipython-input-11-b3626e3be390>, line 7)",
          "traceback": [
            "\u001b[0;36m  File \u001b[0;32m\"<ipython-input-11-b3626e3be390>\"\u001b[0;36m, line \u001b[0;32m7\u001b[0m\n\u001b[0;31m    model.add(Dropout(0.25))\u001b[0m\n\u001b[0m        ^\u001b[0m\n\u001b[0;31mSyntaxError\u001b[0m\u001b[0;31m:\u001b[0m invalid syntax\n"
          ]
        }
      ]
    },
    {
      "cell_type": "code",
      "metadata": {
        "execution": {
          "iopub.status.busy": "2021-08-09T14:35:25.112277Z",
          "iopub.status.idle": "2021-08-09T14:35:25.112770Z"
        },
        "trusted": true,
        "id": "EPO62wiUbIre"
      },
      "source": [
        ""
      ],
      "execution_count": null,
      "outputs": []
    },
    {
      "cell_type": "code",
      "metadata": {
        "execution": {
          "iopub.status.busy": "2021-08-09T14:57:14.630346Z",
          "iopub.status.idle": "2021-08-09T14:57:14.630784Z"
        },
        "trusted": true,
        "colab": {
          "base_uri": "https://localhost:8080/"
        },
        "id": "e5OALYs6bIre",
        "outputId": "2c452987-3f65-4c3b-97b8-dd6e8c6d0301"
      },
      "source": [
        "model.compile(loss = 'categorical_crossentropy',\n",
        "             optimizer = RMSprop(lr = 0.001),metrics = ['accuracy'])"
      ],
      "execution_count": null,
      "outputs": [
        {
          "output_type": "stream",
          "text": [
            "/usr/local/lib/python3.7/dist-packages/tensorflow/python/keras/optimizer_v2/optimizer_v2.py:375: UserWarning: The `lr` argument is deprecated, use `learning_rate` instead.\n",
            "  \"The `lr` argument is deprecated, use `learning_rate` instead.\")\n"
          ],
          "name": "stderr"
        }
      ]
    },
    {
      "cell_type": "code",
      "metadata": {
        "execution": {
          "iopub.status.busy": "2021-08-09T14:50:09.401148Z",
          "iopub.execute_input": "2021-08-09T14:50:09.401773Z",
          "iopub.status.idle": "2021-08-09T14:50:09.414349Z",
          "shell.execute_reply.started": "2021-08-09T14:50:09.401719Z",
          "shell.execute_reply": "2021-08-09T14:50:09.413305Z"
        },
        "trusted": true,
        "colab": {
          "base_uri": "https://localhost:8080/",
          "height": 316
        },
        "id": "LSIY-QALbIre",
        "outputId": "112f9edc-c82b-4ac0-d879-94c993c2928e"
      },
      "source": [
        "model.summary()"
      ],
      "execution_count": null,
      "outputs": [
        {
          "output_type": "error",
          "ename": "ValueError",
          "evalue": "ignored",
          "traceback": [
            "\u001b[0;31m---------------------------------------------------------------------------\u001b[0m",
            "\u001b[0;31mValueError\u001b[0m                                Traceback (most recent call last)",
            "\u001b[0;32m<ipython-input-11-5f15418b3570>\u001b[0m in \u001b[0;36m<module>\u001b[0;34m()\u001b[0m\n\u001b[0;32m----> 1\u001b[0;31m \u001b[0mmodel\u001b[0m\u001b[0;34m.\u001b[0m\u001b[0msummary\u001b[0m\u001b[0;34m(\u001b[0m\u001b[0;34m)\u001b[0m\u001b[0;34m\u001b[0m\u001b[0;34m\u001b[0m\u001b[0m\n\u001b[0m",
            "\u001b[0;32m/usr/local/lib/python3.7/dist-packages/keras/engine/training.py\u001b[0m in \u001b[0;36msummary\u001b[0;34m(self, line_length, positions, print_fn)\u001b[0m\n\u001b[1;32m   2450\u001b[0m     \"\"\"\n\u001b[1;32m   2451\u001b[0m     \u001b[0;32mif\u001b[0m \u001b[0;32mnot\u001b[0m \u001b[0mself\u001b[0m\u001b[0;34m.\u001b[0m\u001b[0mbuilt\u001b[0m\u001b[0;34m:\u001b[0m\u001b[0;34m\u001b[0m\u001b[0;34m\u001b[0m\u001b[0m\n\u001b[0;32m-> 2452\u001b[0;31m       raise ValueError('This model has not yet been built. '\n\u001b[0m\u001b[1;32m   2453\u001b[0m                        \u001b[0;34m'Build the model first by calling `build()` or calling '\u001b[0m\u001b[0;34m\u001b[0m\u001b[0;34m\u001b[0m\u001b[0m\n\u001b[1;32m   2454\u001b[0m                        \u001b[0;34m'`fit()` with some data, or specify '\u001b[0m\u001b[0;34m\u001b[0m\u001b[0;34m\u001b[0m\u001b[0m\n",
            "\u001b[0;31mValueError\u001b[0m: This model has not yet been built. Build the model first by calling `build()` or calling `fit()` with some data, or specify an `input_shape` argument in the first layer(s) for automatic build."
          ]
        }
      ]
    },
    {
      "cell_type": "code",
      "metadata": {
        "execution": {
          "iopub.status.busy": "2021-08-09T14:50:16.946584Z",
          "iopub.execute_input": "2021-08-09T14:50:16.947212Z",
          "iopub.status.idle": "2021-08-09T14:57:14.629123Z",
          "shell.execute_reply.started": "2021-08-09T14:50:16.947172Z",
          "shell.execute_reply": "2021-08-09T14:57:14.626701Z"
        },
        "trusted": true,
        "colab": {
          "base_uri": "https://localhost:8080/",
          "height": 172
        },
        "id": "rc4mMh3dbIrf",
        "outputId": "d3773dd0-15d2-45b7-f5cc-6181171fee5e"
      },
      "source": [
        "model_fit = model.fit(train_df, steps_per_epoch = 5, epochs = 30)"
      ],
      "execution_count": null,
      "outputs": [
        {
          "output_type": "error",
          "ename": "NameError",
          "evalue": "ignored",
          "traceback": [
            "\u001b[0;31m---------------------------------------------------------------------------\u001b[0m",
            "\u001b[0;31mNameError\u001b[0m                                 Traceback (most recent call last)",
            "\u001b[0;32m<ipython-input-12-ad39732a3452>\u001b[0m in \u001b[0;36m<module>\u001b[0;34m()\u001b[0m\n\u001b[0;32m----> 1\u001b[0;31m \u001b[0mmodel_fit\u001b[0m \u001b[0;34m=\u001b[0m \u001b[0mmodel\u001b[0m\u001b[0;34m.\u001b[0m\u001b[0mfit\u001b[0m\u001b[0;34m(\u001b[0m\u001b[0mtrain_df\u001b[0m\u001b[0;34m,\u001b[0m \u001b[0msteps_per_epoch\u001b[0m \u001b[0;34m=\u001b[0m \u001b[0;36m5\u001b[0m\u001b[0;34m,\u001b[0m \u001b[0mepochs\u001b[0m \u001b[0;34m=\u001b[0m \u001b[0;36m30\u001b[0m\u001b[0;34m)\u001b[0m\u001b[0;34m\u001b[0m\u001b[0;34m\u001b[0m\u001b[0m\n\u001b[0m",
            "\u001b[0;31mNameError\u001b[0m: name 'train_df' is not defined"
          ]
        }
      ]
    },
    {
      "cell_type": "code",
      "metadata": {
        "execution": {
          "iopub.status.busy": "2021-08-09T14:35:25.125155Z",
          "iopub.status.idle": "2021-08-09T14:35:25.125585Z"
        },
        "trusted": true,
        "id": "7sPDKTPWbIrf"
      },
      "source": [
        "model.save('./model.h5')"
      ],
      "execution_count": null,
      "outputs": []
    },
    {
      "cell_type": "code",
      "metadata": {
        "execution": {
          "iopub.status.busy": "2021-08-09T14:57:14.631908Z",
          "iopub.status.idle": "2021-08-09T14:57:14.632497Z"
        },
        "trusted": true,
        "id": "-3uVY9eUbIrf"
      },
      "source": [
        "def load_images_from_folder(dir):\n",
        "    images = []\n",
        "    for filename in os.listdir(dir):\n",
        "        img = cv2.imread(os.path.join(dir,filename))\n",
        "        if img is not None:\n",
        "\n",
        "            images.append(img)\n",
        "            \n",
        "    return images\n"
      ],
      "execution_count": null,
      "outputs": []
    },
    {
      "cell_type": "code",
      "metadata": {
        "execution": {
          "iopub.status.busy": "2021-08-09T14:35:25.128195Z",
          "iopub.status.idle": "2021-08-09T14:35:25.128606Z"
        },
        "trusted": true,
        "id": "ANN-bPu1bIrg"
      },
      "source": [
        "df = pd.read_csv('../input/compet-data/dataset/test.csv')"
      ],
      "execution_count": null,
      "outputs": []
    },
    {
      "cell_type": "code",
      "metadata": {
        "execution": {
          "iopub.status.busy": "2021-08-09T14:35:25.129560Z",
          "iopub.status.idle": "2021-08-09T14:35:25.130009Z"
        },
        "trusted": true,
        "id": "0UtO-wXvbIrg"
      },
      "source": [
        "df"
      ],
      "execution_count": null,
      "outputs": []
    },
    {
      "cell_type": "code",
      "metadata": {
        "execution": {
          "iopub.status.busy": "2021-08-09T14:35:25.130943Z",
          "iopub.status.idle": "2021-08-09T14:35:25.131354Z"
        },
        "trusted": true,
        "id": "ANNtPqWkbIrg"
      },
      "source": [
        "img_list = df['Image'].to_list()"
      ],
      "execution_count": null,
      "outputs": []
    },
    {
      "cell_type": "code",
      "metadata": {
        "execution": {
          "iopub.status.busy": "2021-08-09T14:35:25.132409Z",
          "iopub.status.idle": "2021-08-09T14:35:25.132889Z"
        },
        "trusted": true,
        "id": "KA45Ei4ibIrg"
      },
      "source": [
        "img_list"
      ],
      "execution_count": null,
      "outputs": []
    },
    {
      "cell_type": "code",
      "metadata": {
        "execution": {
          "iopub.status.busy": "2021-08-09T14:35:25.134111Z",
          "iopub.status.idle": "2021-08-09T14:35:25.134520Z"
        },
        "trusted": true,
        "id": "8gt5CFhibIrg"
      },
      "source": [
        "\n",
        "from PIL import Image\n",
        "import pytesseract"
      ],
      "execution_count": null,
      "outputs": []
    },
    {
      "cell_type": "code",
      "metadata": {
        "execution": {
          "iopub.status.busy": "2021-08-09T14:35:25.135537Z",
          "iopub.status.idle": "2021-08-09T14:35:25.135973Z"
        },
        "trusted": true,
        "id": "G_2ln524bIrh"
      },
      "source": [
        "def TxtExtract(filename):\n",
        "    \"\"\"\n",
        "    This function will handle the core OCR processing of images.\n",
        "    \"\"\"\n",
        "    text = pytesseract.image_to_string(Image.open(filename))\n",
        "    return text"
      ],
      "execution_count": null,
      "outputs": []
    },
    {
      "cell_type": "code",
      "metadata": {
        "execution": {
          "iopub.status.busy": "2021-08-09T14:35:25.136882Z",
          "iopub.status.idle": "2021-08-09T14:35:25.137287Z"
        },
        "trusted": true,
        "id": "LUe1VjMbbIrh"
      },
      "source": [
        "dir_p = '../input/compet-data/dataset/images/'\n",
        "vall = []\n",
        "textl = []\n",
        "ii = 0\n",
        "for i in img_list:\n",
        "    for j in os.listdir(dir_p):\n",
        "        if i == j:\n",
        "            text = ''\n",
        "            img = image.load_img(dir_p + i,target_size = (200,200))\n",
        "            text = TxtExtract(dir_p + i)\n",
        "            textl.append(text)\n",
        "            plt.imshow(img)\n",
        "            plt.show()\n",
        "            X = image.img_to_array(img)\n",
        "            X = np.expand_dims(X,axis=0)\n",
        "            images = np.stack([X])\n",
        "            images = images.reshape(1,200,200,3)\n",
        "            val = model.predict(images)\n",
        "            if val > 0.5:\n",
        "                print(\"TOYS\")\n",
        "                vall.append('toys')\n",
        "            elif val <= 0.5:\n",
        "                print(\"CONSUMER_PRODUCTS\")\n",
        "                vall.append('consumer_products')\n",
        "            print(\"!!!!!!!!!!!!!!!!!\",ii)\n",
        "            ii+=1\n",
        "            \n",
        "            \n",
        "    "
      ],
      "execution_count": null,
      "outputs": []
    },
    {
      "cell_type": "code",
      "metadata": {
        "execution": {
          "iopub.status.busy": "2021-08-09T14:35:25.138286Z",
          "iopub.status.idle": "2021-08-09T14:35:25.138747Z"
        },
        "trusted": true,
        "id": "z9dkZ6EzbIri"
      },
      "source": [
        "dff = pd.DataFrame(vall,columns =['label']) "
      ],
      "execution_count": null,
      "outputs": []
    },
    {
      "cell_type": "code",
      "metadata": {
        "execution": {
          "iopub.status.busy": "2021-08-09T14:35:25.139706Z",
          "iopub.status.idle": "2021-08-09T14:35:25.140106Z"
        },
        "trusted": true,
        "id": "mWV5QEmIbIri"
      },
      "source": [
        "dff"
      ],
      "execution_count": null,
      "outputs": []
    },
    {
      "cell_type": "code",
      "metadata": {
        "execution": {
          "iopub.status.busy": "2021-08-09T14:35:25.140983Z",
          "iopub.status.idle": "2021-08-09T14:35:25.141390Z"
        },
        "trusted": true,
        "id": "4cyrVISObIri"
      },
      "source": [
        "dff['label'].value_counts()"
      ],
      "execution_count": null,
      "outputs": []
    },
    {
      "cell_type": "code",
      "metadata": {
        "execution": {
          "iopub.status.busy": "2021-08-09T14:35:25.142314Z",
          "iopub.status.idle": "2021-08-09T14:35:25.142747Z"
        },
        "trusted": true,
        "id": "xJno_KPtbIri"
      },
      "source": [
        "dff.to_csv('./he_final.csv')"
      ],
      "execution_count": null,
      "outputs": []
    },
    {
      "cell_type": "code",
      "metadata": {
        "execution": {
          "iopub.status.busy": "2021-08-09T14:35:25.143712Z",
          "iopub.status.idle": "2021-08-09T14:35:25.144113Z"
        },
        "trusted": true,
        "id": "PX4lpioRbIrj"
      },
      "source": [
        "!pip install tensorflow"
      ],
      "execution_count": null,
      "outputs": []
    },
    {
      "cell_type": "code",
      "metadata": {
        "id": "6zUOq_kvbIrj"
      },
      "source": [
        ""
      ],
      "execution_count": null,
      "outputs": []
    },
    {
      "cell_type": "code",
      "metadata": {
        "colab": {
          "base_uri": "https://localhost:8080/"
        },
        "id": "DGVBUsp7bIrj",
        "outputId": "17156b89-bbde-44e0-dde1-effc0985eaaf"
      },
      "source": [
        "!pip install to_categorical\n"
      ],
      "execution_count": null,
      "outputs": [
        {
          "output_type": "stream",
          "text": [
            "\u001b[31mERROR: Could not find a version that satisfies the requirement to_categorical (from versions: none)\u001b[0m\n",
            "\u001b[31mERROR: No matching distribution found for to_categorical\u001b[0m\n"
          ],
          "name": "stdout"
        }
      ]
    },
    {
      "cell_type": "code",
      "metadata": {
        "colab": {
          "base_uri": "https://localhost:8080/"
        },
        "id": "B9AJzAqAbIrj",
        "outputId": "dfd42da8-d6c0-4ad8-9546-a566de3fe1dd"
      },
      "source": [
        "!pwd"
      ],
      "execution_count": null,
      "outputs": [
        {
          "output_type": "stream",
          "text": [
            "/content\n"
          ],
          "name": "stdout"
        }
      ]
    },
    {
      "cell_type": "code",
      "metadata": {
        "colab": {
          "base_uri": "https://localhost:8080/"
        },
        "id": "RBWcWCqQ62Zv",
        "outputId": "1d0175e9-ebcc-4b88-90db-74273b181f6d"
      },
      "source": [
        "!ls"
      ],
      "execution_count": null,
      "outputs": [
        {
          "output_type": "stream",
          "text": [
            "sample_data\n"
          ],
          "name": "stdout"
        }
      ]
    },
    {
      "cell_type": "code",
      "metadata": {
        "id": "QpHRKWwM65Ih"
      },
      "source": [
        ""
      ],
      "execution_count": null,
      "outputs": []
    }
  ]
}